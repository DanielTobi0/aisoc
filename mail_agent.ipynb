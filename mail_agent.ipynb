{
 "cells": [
  {
   "cell_type": "code",
   "execution_count": 34,
   "metadata": {},
   "outputs": [],
   "source": [
    "import os\n",
    "import json \n",
    "from dotenv import load_dotenv\n",
    "\n",
    "from typing import List\n",
    "\n",
    "import openai\n",
    "from langchain_openai import ChatOpenAI\n",
    "from langchain_groq import ChatGroq\n",
    "\n",
    "from langchain_core.tools import tool\n",
    "from pydantic import BaseModel, Field\n",
    "\n",
    "import httpx \n",
    "import smtplib\n",
    "from email.mime.text import MIMEText\n",
    "from email.message import EmailMessage"
   ]
  },
  {
   "cell_type": "code",
   "execution_count": 35,
   "metadata": {},
   "outputs": [],
   "source": [
    "load_dotenv()\n",
    "os.environ['groq_api_key'] = os.getenv('groq_api_key')\n",
    "jina_api_key = os.getenv('jina_api_key')\n",
    "password = os.getenv('app_password')\n",
    "email = os.getenv('email')\n",
    "\n",
    "\n",
    "# llm = ChatOpenAI(model='gpt-4o-mini')\n",
    "# llm = ChatGroq(model='llama-3.3-70b-versatile')"
   ]
  },
  {
   "cell_type": "code",
   "execution_count": 36,
   "metadata": {},
   "outputs": [],
   "source": [
    "class Email(BaseModel):\n",
    "  subject: str = Field(description=\"Subject of the email\")\n",
    "  body: str = Field(description=\"Body of the email\")\n",
    "\n",
    "\n",
    "@tool\n",
    "def scrape_website(url: str):\n",
    "    \"\"\"use to get the text from a website\n",
    "    Args:\n",
    "        url: url to scrape\n",
    "    \"\"\"\n",
    "    headers = {'Authorization': f'Bearer {jina_api_key}'}\n",
    "    response = httpx.get(f'https://r.jina.ai/{url}', headers=headers)\n",
    "    return response.text\n",
    "\n",
    "\n",
    "@tool\n",
    "def write_newsletter(text: str):\n",
    "    \"\"\"used to write a newsletter from the provided text\n",
    "    Args:\n",
    "        text: text to write the newsletter from\n",
    "    \"\"\"\n",
    "    completion = client.beta.chat.completions.parse(\n",
    "        model='gpt-4o-mini',\n",
    "        messages=[\n",
    "            {'role': 'system', 'content': 'You\"re an expert at writing email newsletters. Use the provided context to write a newsletter to a general audience. remove all links and images present in it'},\n",
    "            {'role': 'user', 'content': f'context: {text}'},\n",
    "        ],\n",
    "        response_format=Email,\n",
    "    )\n",
    "    data = json.dumps(completion.choices[0].message.parsed.dict())\n",
    "    data = json.loads(data)\n",
    "\n",
    "    new_dict = {}\n",
    "    new_dict['Subject'] = data['subject']\n",
    "    new_dict['Body'] = data['body']\n",
    "    return new_dict\n",
    "\n",
    "\n",
    "@tool\n",
    "def send_mail(subject, body):\n",
    "    \"\"\"sends email to user(s).\n",
    "    Args:\n",
    "        subject: subject of email\n",
    "        body: body of the email\n",
    "        recipients: list of email address\n",
    "    \"\"\"\n",
    "    msg = MIMEText(body)\n",
    "    msg['Subject'] = subject\n",
    "    msg['From'] = sender\n",
    "    msg['To'] = ', '.join(emails)\n",
    "    with smtplib.SMTP_SSL('smtp.gmail.com', 465) as smtp_server:\n",
    "        smtp_server.login(sender, password)\n",
    "        smtp_server.sendmail(sender, emails, msg.as_string())\n",
    "    return \"Message sent!\""
   ]
  },
  {
   "cell_type": "code",
   "execution_count": 37,
   "metadata": {},
   "outputs": [
    {
     "name": "stdout",
     "output_type": "stream",
     "text": [
      "\n",
      "system prompt: \n",
      "\n",
      "You are an expert at writing newsletters, and your task is to use the given context \n",
      "to write email newsletters and send it to appropriate recipients\n",
      "\n",
      "These tools are available to you:\n",
      "\n",
      "- scrape_website: Use to get the text from a website\n",
      "- write_newsletter: Use to write a newsletter from the provided text\n",
      "- send_mail: Sends email to multiple users\n",
      "\n",
      "\n",
      "User prompt: \n",
      "write a newsletter using text from https://paulgraham.com/startupideas.html and send it to the following emails ['adejumobidaniel563@gmail.com', 'sunnyadejumobi@gmail.com']\n",
      "\n"
     ]
    }
   ],
   "source": [
    "client = openai.OpenAI()\n",
    "sender = email\n",
    "password = password\n",
    "emails = [\"adejumobidaniel563@gmail.com\", \"sunnyadejumobi@gmail.com\"]\n",
    "url = 'https://paulgraham.com/startupideas.html'\n",
    "\n",
    "\n",
    "system_prompt = \"\"\"\n",
    "You are an expert at writing newsletters, and your task is to use the given context \n",
    "to write email newsletters and send it to appropriate recipients\n",
    "\n",
    "These tools are available to you:\n",
    "\n",
    "- scrape_website: Use to get the text from a website\n",
    "- write_newsletter: Use to write a newsletter from the provided text\n",
    "- send_mail: Sends email to multiple users\n",
    "\"\"\"\n",
    "\n",
    "user_prompt = f\"\"\"\n",
    "system prompt: \n",
    "{system_prompt}\n",
    "\n",
    "User prompt: \n",
    "write a newsletter using text from {url} and send it to the following emails {emails}\n",
    "\"\"\"\n",
    "\n",
    "print(user_prompt)"
   ]
  },
  {
   "cell_type": "code",
   "execution_count": 38,
   "metadata": {},
   "outputs": [],
   "source": [
    "tools = [scrape_website, write_newsletter, send_mail]\n",
    "llms_with_tools = llm.bind_tools(tools)\n",
    "tool_map = {tool.name: tool for tool in tools}\n",
    "\n",
    "def call_tools(msg: AIMessage) -> Runnable:\n",
    "    \"\"\"Simple sequential tool calling helper.\"\"\"\n",
    "    tool_map = {tool.name: tool for tool in tools}\n",
    "    tool_calls = msg.tool_calls.copy()\n",
    "    for tool_call in tool_calls:\n",
    "        tool_call[\"output\"] = tool_map[tool_call[\"name\"]].invoke(tool_call[\"args\"])\n",
    "    return tool_calls\n",
    "\n",
    "chain = llms_with_tools | call_tools"
   ]
  },
  {
   "cell_type": "code",
   "execution_count": 39,
   "metadata": {},
   "outputs": [
    {
     "name": "stderr",
     "output_type": "stream",
     "text": [
      "C:\\Users\\HomePC\\AppData\\Local\\Temp\\ipykernel_14548\\1977018948.py:34: PydanticDeprecatedSince20: The `dict` method is deprecated; use `model_dump` instead. Deprecated in Pydantic V2.0 to be removed in V3.0. See Pydantic V2 Migration Guide at https://errors.pydantic.dev/2.10/migration/\n",
      "  data = json.dumps(completion.choices[0].message.parsed.dict())\n"
     ]
    }
   ],
   "source": [
    "response = chain.invoke(user_prompt)"
   ]
  },
  {
   "cell_type": "code",
   "execution_count": null,
   "metadata": {},
   "outputs": [],
   "source": []
  }
 ],
 "metadata": {
  "kernelspec": {
   "display_name": ".venv",
   "language": "python",
   "name": "python3"
  },
  "language_info": {
   "codemirror_mode": {
    "name": "ipython",
    "version": 3
   },
   "file_extension": ".py",
   "mimetype": "text/x-python",
   "name": "python",
   "nbconvert_exporter": "python",
   "pygments_lexer": "ipython3",
   "version": "3.11.0"
  }
 },
 "nbformat": 4,
 "nbformat_minor": 2
}
